{
 "cells": [
  {
   "cell_type": "markdown",
   "id": "aca45247-499e-4af7-8bc1-7d2b046e225f",
   "metadata": {},
   "source": [
    "#### Perform analysis on original time series data, such as period prediction"
   ]
  },
  {
   "cell_type": "code",
   "execution_count": 2,
   "id": "db247746-5d82-47c1-9312-02ec0cebcb45",
   "metadata": {},
   "outputs": [],
   "source": [
    "from scipy.fftpack import fft, fftfreq\n",
    "from statsmodels.tsa.stattools import acf\n",
    "import numpy as np\n",
    "import matplotlib.pyplot as plt\n",
    "import os\n",
    "import pandas as pd"
   ]
  },
  {
   "cell_type": "code",
   "execution_count": 3,
   "id": "2f855c51-5193-4fa9-841a-ec509ed735a6",
   "metadata": {},
   "outputs": [],
   "source": [
    "path = '../data-sets/KDD-Cup/data/'\n",
    "files_name = [i for i in os.listdir(path) if 'Anomaly' in i] #remove irrelevant files\n",
    "files_name.sort(key = lambda x : x.split('_')[0]) #sort by id"
   ]
  },
  {
   "cell_type": "code",
   "execution_count": 12,
   "id": "0451435d-4273-4eee-8c48-a70f2db059d3",
   "metadata": {},
   "outputs": [],
   "source": [
    "periods = []\n",
    "for name in files_name:\n",
    "    split_index  = int(name.split('.')[0].split('_')[3])\n",
    "    data = np.loadtxt(path+name)[0:split_index+1]\n",
    "\n",
    "    fft_series = fft(data)\n",
    "    power = np.abs(fft_series)\n",
    "    sample_freq = fftfreq(fft_series.size)\n",
    "\n",
    "    pos_mask = np.where(sample_freq > 0)\n",
    "    freqs = sample_freq[pos_mask]\n",
    "    powers = power[pos_mask]\n",
    "\n",
    "    top_k_seasons = 5\n",
    "\n",
    "    # top K=5 index\n",
    "    top_k_idxs = np.argpartition(powers, -top_k_seasons)[-top_k_seasons:]\n",
    "    top_k_power = powers[top_k_idxs]\n",
    "    fft_periods = (1 / freqs[top_k_idxs]).astype(int)\n",
    "    fft_periods = [i for i in fft_periods if i < 0.5*split_index] #delete outliers for 102 and 151\n",
    "    \n",
    "    # Expected time period\n",
    "    scores = []\n",
    "    for lag in fft_periods:\n",
    "        # lag = fft_periods[np.abs(fft_periods - time_lag).argmin()]\n",
    "        acf_score = acf(data, nlags=lag)[-1]\n",
    "        scores.append(acf_score)\n",
    "        # print(f\"lag: {lag} fft acf: {acf_score}\")\n",
    "    period = fft_periods[scores.index(max(scores))] #candidated periods with highest acf score\n",
    "    periods.append(period)\n"
   ]
  },
  {
   "cell_type": "code",
   "execution_count": 13,
   "id": "130a6898-f849-436b-b556-5a7790f800db",
   "metadata": {},
   "outputs": [],
   "source": [
    "pd.DataFrame({'File_name':files_name,'Period':periods}).to_csv('../data-sets/KDD-Cup/period/period.csv',index=None)"
   ]
  }
 ],
 "metadata": {
  "kernelspec": {
   "display_name": "Python 3 (ipykernel)",
   "language": "python",
   "name": "python3"
  },
  "language_info": {
   "codemirror_mode": {
    "name": "ipython",
    "version": 3
   },
   "file_extension": ".py",
   "mimetype": "text/x-python",
   "name": "python",
   "nbconvert_exporter": "python",
   "pygments_lexer": "ipython3",
   "version": "3.8.12"
  }
 },
 "nbformat": 4,
 "nbformat_minor": 5
}
