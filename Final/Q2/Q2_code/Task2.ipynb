{
 "cells": [
  {
   "cell_type": "code",
   "execution_count": 1,
   "id": "27bf1d9b-02a2-483d-83a3-2769c504a0a2",
   "metadata": {},
   "outputs": [],
   "source": [
    "import pandas as pd"
   ]
  },
  {
   "cell_type": "markdown",
   "id": "198282be-7544-4f19-a6c9-b3d98260e6a2",
   "metadata": {},
   "source": [
    "#### load data"
   ]
  },
  {
   "cell_type": "code",
   "execution_count": 2,
   "id": "32d32d02-0b58-4dc4-a0a2-0ebf5da00920",
   "metadata": {},
   "outputs": [],
   "source": [
    "confirmed_path = \"../covid19_confirmed_global.txt\"\n",
    "confirmed = pd.read_csv(confirmed_path)"
   ]
  },
  {
   "cell_type": "markdown",
   "id": "1a5bc9ee-f270-4383-b09f-afb43d427d78",
   "metadata": {},
   "source": [
    "#### select oct 2021 data"
   ]
  },
  {
   "cell_type": "code",
   "execution_count": 3,
   "id": "02e6dc23-a593-476a-9629-f216f63e2850",
   "metadata": {},
   "outputs": [
    {
     "data": {
      "text/html": [
       "<div>\n",
       "<style scoped>\n",
       "    .dataframe tbody tr th:only-of-type {\n",
       "        vertical-align: middle;\n",
       "    }\n",
       "\n",
       "    .dataframe tbody tr th {\n",
       "        vertical-align: top;\n",
       "    }\n",
       "\n",
       "    .dataframe thead th {\n",
       "        text-align: right;\n",
       "    }\n",
       "</style>\n",
       "<table border=\"1\" class=\"dataframe\">\n",
       "  <thead>\n",
       "    <tr style=\"text-align: right;\">\n",
       "      <th></th>\n",
       "      <th>Province/State</th>\n",
       "      <th>Country/Region</th>\n",
       "      <th>Lat</th>\n",
       "      <th>Long</th>\n",
       "      <th>10/31/21</th>\n",
       "    </tr>\n",
       "  </thead>\n",
       "  <tbody>\n",
       "    <tr>\n",
       "      <th>0</th>\n",
       "      <td>NaN</td>\n",
       "      <td>Afghanistan</td>\n",
       "      <td>33.93911</td>\n",
       "      <td>67.709953</td>\n",
       "      <td>156250</td>\n",
       "    </tr>\n",
       "    <tr>\n",
       "      <th>1</th>\n",
       "      <td>NaN</td>\n",
       "      <td>Albania</td>\n",
       "      <td>41.15330</td>\n",
       "      <td>20.168300</td>\n",
       "      <td>185300</td>\n",
       "    </tr>\n",
       "    <tr>\n",
       "      <th>2</th>\n",
       "      <td>NaN</td>\n",
       "      <td>Algeria</td>\n",
       "      <td>28.03390</td>\n",
       "      <td>1.659600</td>\n",
       "      <td>206452</td>\n",
       "    </tr>\n",
       "    <tr>\n",
       "      <th>3</th>\n",
       "      <td>NaN</td>\n",
       "      <td>Andorra</td>\n",
       "      <td>42.50630</td>\n",
       "      <td>1.521800</td>\n",
       "      <td>15516</td>\n",
       "    </tr>\n",
       "    <tr>\n",
       "      <th>4</th>\n",
       "      <td>NaN</td>\n",
       "      <td>Angola</td>\n",
       "      <td>-11.20270</td>\n",
       "      <td>17.873900</td>\n",
       "      <td>64433</td>\n",
       "    </tr>\n",
       "  </tbody>\n",
       "</table>\n",
       "</div>"
      ],
      "text/plain": [
       "  Province/State Country/Region       Lat       Long  10/31/21\n",
       "0            NaN    Afghanistan  33.93911  67.709953    156250\n",
       "1            NaN        Albania  41.15330  20.168300    185300\n",
       "2            NaN        Algeria  28.03390   1.659600    206452\n",
       "3            NaN        Andorra  42.50630   1.521800     15516\n",
       "4            NaN         Angola -11.20270  17.873900     64433"
      ]
     },
     "execution_count": 3,
     "metadata": {},
     "output_type": "execute_result"
    }
   ],
   "source": [
    "columns_to_keep = list(confirmed.columns[0:4])\n",
    "columns_to_keep.append('10/31/21')\n",
    "# columns_to_keep.extend([col for col in confirmed.columns if col[0:3] == '10/' and col[-3::] == '/21'])\n",
    "confirmed = confirmed[columns_to_keep]\n",
    "confirmed.head()"
   ]
  },
  {
   "cell_type": "code",
   "execution_count": 4,
   "id": "4c70a64c-d063-4eea-99d9-cf131c9777a2",
   "metadata": {},
   "outputs": [],
   "source": [
    "code = pd.read_csv('countries_codes_and_coordinates.csv')\n",
    "country_code = dict(zip(code['Country'],code['Alpha-2 code']))\n",
    "\n",
    "def change_us_name(country):\n",
    "    #change US to United States\n",
    "    if country == 'US':\n",
    "        return \"United States\"\n",
    "    return country\n",
    "\n",
    "confirmed['Country/Region'] = confirmed['Country/Region'].apply(change_us_name)"
   ]
  },
  {
   "cell_type": "markdown",
   "id": "eb06a0ae-90c2-4a07-aa86-c24400c0a507",
   "metadata": {},
   "source": [
    "#### plot map"
   ]
  },
  {
   "cell_type": "code",
   "execution_count": 6,
   "id": "a923738b-4df0-4ae1-9a00-14a87e0bd407",
   "metadata": {},
   "outputs": [
    {
     "data": {
      "text/plain": [
       "'/Users/shawin/Desktop/Final/Q2/Q2_output/map.html'"
      ]
     },
     "execution_count": 6,
     "metadata": {},
     "output_type": "execute_result"
    }
   ],
   "source": [
    "from pyecharts.charts import Map,Geo\n",
    "from pyecharts import options\n",
    "\n",
    "dic = dict(zip(confirmed['Country/Region'],confirmed['10/31/21'])) #country:confirmed\n",
    "\n",
    "map = Map(options.InitOpts(bg_color=\"#87CEFA\",page_title=\"World confirmed cases in Oct 31,2021\")).add(series_name=\"World confirmed cases in Oct 31,2021\", \n",
    "                data_pair=list(dic.items()), \n",
    "                maptype='world',\n",
    "                ) #map object with some settings\n",
    "\n",
    "# add color according to # of confirmed\n",
    "map.set_global_opts(visualmap_opts=options.VisualMapOpts(max_=1100000,is_piecewise=True,pieces=[\n",
    "                 {\"min\": 500000},\n",
    "                 {\"min\": 200000, \"max\": 499999},\n",
    "                 {\"min\": 100000, \"max\": 199999},\n",
    "                 {\"min\": 50000, \"max\": 99999},\n",
    "                 {\"min\": 10000, \"max\": 49999},\n",
    "                 {\"max\": 9999},]))\n",
    "\n",
    "#show no label\n",
    "map.set_series_opts(label_opts=options.LabelOpts(is_show=False)) \n",
    "\n",
    "#render as html\n",
    "map.render('../Q2_output/map.html')"
   ]
  },
  {
   "cell_type": "code",
   "execution_count": null,
   "id": "2867b0d1-b32a-4505-8bb0-234dbfb05ac7",
   "metadata": {},
   "outputs": [],
   "source": []
  }
 ],
 "metadata": {
  "kernelspec": {
   "display_name": "Python 3 (ipykernel)",
   "language": "python",
   "name": "python3"
  },
  "language_info": {
   "codemirror_mode": {
    "name": "ipython",
    "version": 3
   },
   "file_extension": ".py",
   "mimetype": "text/x-python",
   "name": "python",
   "nbconvert_exporter": "python",
   "pygments_lexer": "ipython3",
   "version": "3.8.12"
  }
 },
 "nbformat": 4,
 "nbformat_minor": 5
}
