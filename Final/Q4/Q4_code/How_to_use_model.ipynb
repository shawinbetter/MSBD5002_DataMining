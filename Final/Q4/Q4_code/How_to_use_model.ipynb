{
 "cells": [
  {
   "cell_type": "code",
   "execution_count": 1,
   "id": "0d522ab4-6b28-48f9-b982-9412e4701acb",
   "metadata": {},
   "outputs": [],
   "source": [
    "import numpy as np\n",
    "import pandas as pd\n",
    "import seaborn as sns\n",
    "import matplotlib.pyplot as plt\n",
    "import reverse_geocoder as rg\n",
    "from collections import Counter\n",
    "from sklearn import preprocessing\n",
    "import datetime\n",
    "from sklearn.model_selection import train_test_split\n",
    "from sklearn.ensemble import RandomForestClassifier\n",
    "from sklearn.metrics import roc_auc_score\n",
    "from sklearn.metrics import classification_report\n",
    "import pickle"
   ]
  },
  {
   "cell_type": "code",
   "execution_count": 2,
   "id": "58813c4e-bf8a-4829-8f3d-df62e5d25f34",
   "metadata": {},
   "outputs": [],
   "source": [
    "file_path = '../fraudTrain.csv' #assume it is test file\n",
    "\n",
    "# first column useless\n",
    "df = pd.read_csv(file_path,index_col = 0)"
   ]
  },
  {
   "cell_type": "code",
   "execution_count": 3,
   "id": "4de97f92-31ef-4a8a-bd93-66b52c1565e7",
   "metadata": {},
   "outputs": [],
   "source": [
    "## Drop irrelevant column\n",
    "## we use UNIX timestamp instead of time\n",
    "## city and state can represent location, identical number is useless\n",
    "### Actually, it is necessary to keep them, but time is limited to process\n",
    "drop_col = ['trans_date_trans_time','lat','long','merchant','street',\n",
    "            'zip','city','first','trans_num','city','last']\n",
    "df = df.drop(drop_col,axis=1)"
   ]
  },
  {
   "cell_type": "code",
   "execution_count": 4,
   "id": "3f6966ff-83d5-43f9-b401-fd11018cc4a2",
   "metadata": {},
   "outputs": [],
   "source": [
    "### Transfer date of birth to age period\n",
    "def map_dob(dob):\n",
    "    now = 2020\n",
    "    age = now - int(dob[0:4])\n",
    "    return round(age / 10)\n",
    "\n",
    "df['age_period'] = df['dob'].apply(map_dob)\n",
    "df = df.drop(['dob'],axis=1)"
   ]
  },
  {
   "cell_type": "code",
   "execution_count": 5,
   "id": "f2f73a80-6ad2-4ebd-9cca-11d751645bb6",
   "metadata": {},
   "outputs": [],
   "source": [
    "##### check unique value of credit card number\n",
    "# print(\"Total unique number of credit card number: \",len(df['cc_num'].unique()))\n",
    "### it is too many. Many be we can use the length of it to represent\n",
    "def cc_num_to_length(cc_num):\n",
    "    return len(str(cc_num))\n",
    "\n",
    "df['cc_num_len'] = df['cc_num'].apply(cc_num_to_length)\n",
    "df = df.drop(['cc_num'],axis=1)"
   ]
  },
  {
   "cell_type": "code",
   "execution_count": 6,
   "id": "e744858a-c17c-4807-9041-6c3eaa95df83",
   "metadata": {},
   "outputs": [],
   "source": [
    "### map merch_lat,merch_long to city\n",
    "# geolocater = Nominatim(user_agent='tutorial')\n",
    "# def map_lat_long(lat,long):\n",
    "#     return rg.search((lat,long))[0]['cc']\n",
    "    \n",
    "# country = []\n",
    "# for i in df.index:\n",
    "#     lat,long = df.iloc[i]['merch_lat'],df.iloc[i]['merch_long']\n",
    "#     country.append(map_lat_long(lat,long))\n",
    "\n",
    "# df['merch_country'] = country\n",
    "df = df.drop(['merch_lat','merch_long'],axis=1)"
   ]
  },
  {
   "cell_type": "code",
   "execution_count": 7,
   "id": "ae578503-65f5-4ec5-aab9-99011e881fa9",
   "metadata": {},
   "outputs": [],
   "source": [
    "#### floating value standardization\n",
    "df['amt'] = preprocessing.scale(np.array(df['amt']).reshape(-1,1))\n",
    "df['city_pop'] = preprocessing.scale(np.array(df['city_pop']).reshape(-1,1))"
   ]
  },
  {
   "cell_type": "code",
   "execution_count": 8,
   "id": "24f90f78-9d34-49dd-aa82-9cf5397b5bab",
   "metadata": {},
   "outputs": [],
   "source": [
    "### UNIX Time can be used to represent year,month,day,time_period\n",
    "def get_week_of_month(year, month, day):\n",
    "    begin = int(datetime.date(year, month, 1).strftime(\"%W\"))\n",
    "    end = int(datetime.date(year, month, day).strftime(\"%W\"))\n",
    "    \n",
    "def extract_time_stamp(ts):\n",
    "    string = datetime.datetime.utcfromtimestamp(ts).strftime('%Y-%m-%d %H:%M:%S')\n",
    "    year,month,day,hour = int(string[0:4]),int(string[5:7]),int(string[8:10]),int(string[11:13])\n",
    "    \n",
    "    week_of_month = get_week_of_month(year,month,day)\n",
    "    \n",
    "    if 0 <= hour <= 6:\n",
    "        time_period = 'EarlyMorning'\n",
    "    elif 6< hour <= 12:\n",
    "        time_period = 'Morning'\n",
    "    elif 12 < hour <= 18:\n",
    "        time_period = 'Afternoon'\n",
    "    else:\n",
    "        time_period = 'Night'\n",
    "    \n",
    "    return year,month,time_period\n",
    "\n",
    "df['year'],df['month'],df['time_period'] = zip(*df['unix_time'].map(extract_time_stamp))\n",
    "df = df.drop(['unix_time'],axis=1)"
   ]
  },
  {
   "cell_type": "code",
   "execution_count": 9,
   "id": "41f7e216-9b9c-4225-b3c4-9111a1953ecc",
   "metadata": {},
   "outputs": [],
   "source": [
    "### Map job to inverse of frequency\n",
    "with open('../Q4_output/dict.pkl', 'rb') as f:\n",
    "    dic = pickle.load(f)\n",
    "    \n",
    "n = 1296675 #number of training examples\n",
    "\n",
    "def map_job(job):\n",
    "    return 1 / (dic[job] / n)\n",
    "\n",
    "df['job'] = df['job'].apply(map_job)"
   ]
  },
  {
   "cell_type": "code",
   "execution_count": 10,
   "id": "0e25b8e4-0d35-424a-a609-171e016421f7",
   "metadata": {},
   "outputs": [],
   "source": [
    "#Since all str variables are nominal, use one-hot encoding\n",
    "df = pd.get_dummies(df)"
   ]
  },
  {
   "cell_type": "markdown",
   "id": "3a731b64-95f9-41ee-982f-ca0a1ca820bd",
   "metadata": {},
   "source": [
    "### Call model to predict"
   ]
  },
  {
   "cell_type": "code",
   "execution_count": 11,
   "id": "a35e6b5e-512b-4bab-8e9a-4cbe7439dfe2",
   "metadata": {},
   "outputs": [],
   "source": [
    "X = df[[col for col in df.columns if col != 'is_fraud']]"
   ]
  },
  {
   "cell_type": "code",
   "execution_count": 12,
   "id": "b76c864c-34ca-4bd3-9219-715918dab3ae",
   "metadata": {},
   "outputs": [],
   "source": [
    "with open('../Q4_output/model.pkl', 'rb') as f:\n",
    "    #save model\n",
    "    model = pickle.load(f)"
   ]
  },
  {
   "cell_type": "code",
   "execution_count": 13,
   "id": "ba1b5156-fc0d-4197-8667-31c2a8710017",
   "metadata": {},
   "outputs": [],
   "source": [
    "pred = model.predict(X)"
   ]
  },
  {
   "cell_type": "markdown",
   "id": "bf31d5ad-cb76-4403-b0ad-0dac7ca1454c",
   "metadata": {},
   "source": [
    "### Output to file"
   ]
  },
  {
   "cell_type": "code",
   "execution_count": 14,
   "id": "d86fecff-f33f-4ae5-8a73-1806b6489f83",
   "metadata": {},
   "outputs": [],
   "source": [
    "pd.Series(pred).to_csv('../Q4_output/Q4_predicted_results.csv',index=None,header=None)"
   ]
  }
 ],
 "metadata": {
  "kernelspec": {
   "display_name": "Python 3 (ipykernel)",
   "language": "python",
   "name": "python3"
  },
  "language_info": {
   "codemirror_mode": {
    "name": "ipython",
    "version": 3
   },
   "file_extension": ".py",
   "mimetype": "text/x-python",
   "name": "python",
   "nbconvert_exporter": "python",
   "pygments_lexer": "ipython3",
   "version": "3.8.12"
  }
 },
 "nbformat": 4,
 "nbformat_minor": 5
}
