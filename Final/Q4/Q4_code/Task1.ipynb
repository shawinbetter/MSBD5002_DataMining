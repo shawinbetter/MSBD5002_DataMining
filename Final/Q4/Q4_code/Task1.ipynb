{
 "cells": [
  {
   "cell_type": "code",
   "execution_count": 26,
   "id": "0d522ab4-6b28-48f9-b982-9412e4701acb",
   "metadata": {},
   "outputs": [],
   "source": [
    "import numpy as np\n",
    "import pandas as pd\n",
    "import matplotlib.pyplot as plt\n",
    "# import reverse_geocoder as rg\n",
    "from collections import Counter\n",
    "from sklearn import preprocessing\n",
    "import datetime\n",
    "from sklearn.model_selection import train_test_split\n",
    "from sklearn.ensemble import RandomForestClassifier\n",
    "from sklearn.metrics import roc_auc_score\n",
    "from sklearn.metrics import classification_report\n",
    "import pickle"
   ]
  },
  {
   "cell_type": "markdown",
   "id": "28b75cd2-d15f-47f0-bf9e-e7f2558abcae",
   "metadata": {},
   "source": [
    "#### Load data"
   ]
  },
  {
   "cell_type": "code",
   "execution_count": 2,
   "id": "58813c4e-bf8a-4829-8f3d-df62e5d25f34",
   "metadata": {},
   "outputs": [
    {
     "name": "stdout",
     "output_type": "stream",
     "text": [
      "(1296675, 22)\n"
     ]
    },
    {
     "data": {
      "text/html": [
       "<div>\n",
       "<style scoped>\n",
       "    .dataframe tbody tr th:only-of-type {\n",
       "        vertical-align: middle;\n",
       "    }\n",
       "\n",
       "    .dataframe tbody tr th {\n",
       "        vertical-align: top;\n",
       "    }\n",
       "\n",
       "    .dataframe thead th {\n",
       "        text-align: right;\n",
       "    }\n",
       "</style>\n",
       "<table border=\"1\" class=\"dataframe\">\n",
       "  <thead>\n",
       "    <tr style=\"text-align: right;\">\n",
       "      <th></th>\n",
       "      <th>trans_date_trans_time</th>\n",
       "      <th>cc_num</th>\n",
       "      <th>merchant</th>\n",
       "      <th>category</th>\n",
       "      <th>amt</th>\n",
       "      <th>first</th>\n",
       "      <th>last</th>\n",
       "      <th>gender</th>\n",
       "      <th>street</th>\n",
       "      <th>city</th>\n",
       "      <th>...</th>\n",
       "      <th>lat</th>\n",
       "      <th>long</th>\n",
       "      <th>city_pop</th>\n",
       "      <th>job</th>\n",
       "      <th>dob</th>\n",
       "      <th>trans_num</th>\n",
       "      <th>unix_time</th>\n",
       "      <th>merch_lat</th>\n",
       "      <th>merch_long</th>\n",
       "      <th>is_fraud</th>\n",
       "    </tr>\n",
       "  </thead>\n",
       "  <tbody>\n",
       "    <tr>\n",
       "      <th>0</th>\n",
       "      <td>2019-01-01 00:00:18</td>\n",
       "      <td>2703186189652095</td>\n",
       "      <td>fraud_Rippin, Kub and Mann</td>\n",
       "      <td>misc_net</td>\n",
       "      <td>4.97</td>\n",
       "      <td>Jennifer</td>\n",
       "      <td>Banks</td>\n",
       "      <td>F</td>\n",
       "      <td>561 Perry Cove</td>\n",
       "      <td>Moravian Falls</td>\n",
       "      <td>...</td>\n",
       "      <td>36.0788</td>\n",
       "      <td>-81.1781</td>\n",
       "      <td>3495</td>\n",
       "      <td>Psychologist, counselling</td>\n",
       "      <td>1988-03-09</td>\n",
       "      <td>0b242abb623afc578575680df30655b9</td>\n",
       "      <td>1325376018</td>\n",
       "      <td>36.011293</td>\n",
       "      <td>-82.048315</td>\n",
       "      <td>0</td>\n",
       "    </tr>\n",
       "    <tr>\n",
       "      <th>1</th>\n",
       "      <td>2019-01-01 00:00:44</td>\n",
       "      <td>630423337322</td>\n",
       "      <td>fraud_Heller, Gutmann and Zieme</td>\n",
       "      <td>grocery_pos</td>\n",
       "      <td>107.23</td>\n",
       "      <td>Stephanie</td>\n",
       "      <td>Gill</td>\n",
       "      <td>F</td>\n",
       "      <td>43039 Riley Greens Suite 393</td>\n",
       "      <td>Orient</td>\n",
       "      <td>...</td>\n",
       "      <td>48.8878</td>\n",
       "      <td>-118.2105</td>\n",
       "      <td>149</td>\n",
       "      <td>Special educational needs teacher</td>\n",
       "      <td>1978-06-21</td>\n",
       "      <td>1f76529f8574734946361c461b024d99</td>\n",
       "      <td>1325376044</td>\n",
       "      <td>49.159047</td>\n",
       "      <td>-118.186462</td>\n",
       "      <td>0</td>\n",
       "    </tr>\n",
       "    <tr>\n",
       "      <th>2</th>\n",
       "      <td>2019-01-01 00:00:51</td>\n",
       "      <td>38859492057661</td>\n",
       "      <td>fraud_Lind-Buckridge</td>\n",
       "      <td>entertainment</td>\n",
       "      <td>220.11</td>\n",
       "      <td>Edward</td>\n",
       "      <td>Sanchez</td>\n",
       "      <td>M</td>\n",
       "      <td>594 White Dale Suite 530</td>\n",
       "      <td>Malad City</td>\n",
       "      <td>...</td>\n",
       "      <td>42.1808</td>\n",
       "      <td>-112.2620</td>\n",
       "      <td>4154</td>\n",
       "      <td>Nature conservation officer</td>\n",
       "      <td>1962-01-19</td>\n",
       "      <td>a1a22d70485983eac12b5b88dad1cf95</td>\n",
       "      <td>1325376051</td>\n",
       "      <td>43.150704</td>\n",
       "      <td>-112.154481</td>\n",
       "      <td>0</td>\n",
       "    </tr>\n",
       "    <tr>\n",
       "      <th>3</th>\n",
       "      <td>2019-01-01 00:01:16</td>\n",
       "      <td>3534093764340240</td>\n",
       "      <td>fraud_Kutch, Hermiston and Farrell</td>\n",
       "      <td>gas_transport</td>\n",
       "      <td>45.00</td>\n",
       "      <td>Jeremy</td>\n",
       "      <td>White</td>\n",
       "      <td>M</td>\n",
       "      <td>9443 Cynthia Court Apt. 038</td>\n",
       "      <td>Boulder</td>\n",
       "      <td>...</td>\n",
       "      <td>46.2306</td>\n",
       "      <td>-112.1138</td>\n",
       "      <td>1939</td>\n",
       "      <td>Patent attorney</td>\n",
       "      <td>1967-01-12</td>\n",
       "      <td>6b849c168bdad6f867558c3793159a81</td>\n",
       "      <td>1325376076</td>\n",
       "      <td>47.034331</td>\n",
       "      <td>-112.561071</td>\n",
       "      <td>0</td>\n",
       "    </tr>\n",
       "    <tr>\n",
       "      <th>4</th>\n",
       "      <td>2019-01-01 00:03:06</td>\n",
       "      <td>375534208663984</td>\n",
       "      <td>fraud_Keeling-Crist</td>\n",
       "      <td>misc_pos</td>\n",
       "      <td>41.96</td>\n",
       "      <td>Tyler</td>\n",
       "      <td>Garcia</td>\n",
       "      <td>M</td>\n",
       "      <td>408 Bradley Rest</td>\n",
       "      <td>Doe Hill</td>\n",
       "      <td>...</td>\n",
       "      <td>38.4207</td>\n",
       "      <td>-79.4629</td>\n",
       "      <td>99</td>\n",
       "      <td>Dance movement psychotherapist</td>\n",
       "      <td>1986-03-28</td>\n",
       "      <td>a41d7549acf90789359a9aa5346dcb46</td>\n",
       "      <td>1325376186</td>\n",
       "      <td>38.674999</td>\n",
       "      <td>-78.632459</td>\n",
       "      <td>0</td>\n",
       "    </tr>\n",
       "  </tbody>\n",
       "</table>\n",
       "<p>5 rows × 22 columns</p>\n",
       "</div>"
      ],
      "text/plain": [
       "  trans_date_trans_time            cc_num                            merchant  \\\n",
       "0   2019-01-01 00:00:18  2703186189652095          fraud_Rippin, Kub and Mann   \n",
       "1   2019-01-01 00:00:44      630423337322     fraud_Heller, Gutmann and Zieme   \n",
       "2   2019-01-01 00:00:51    38859492057661                fraud_Lind-Buckridge   \n",
       "3   2019-01-01 00:01:16  3534093764340240  fraud_Kutch, Hermiston and Farrell   \n",
       "4   2019-01-01 00:03:06   375534208663984                 fraud_Keeling-Crist   \n",
       "\n",
       "        category     amt      first     last gender  \\\n",
       "0       misc_net    4.97   Jennifer    Banks      F   \n",
       "1    grocery_pos  107.23  Stephanie     Gill      F   \n",
       "2  entertainment  220.11     Edward  Sanchez      M   \n",
       "3  gas_transport   45.00     Jeremy    White      M   \n",
       "4       misc_pos   41.96      Tyler   Garcia      M   \n",
       "\n",
       "                         street            city  ...      lat      long  \\\n",
       "0                561 Perry Cove  Moravian Falls  ...  36.0788  -81.1781   \n",
       "1  43039 Riley Greens Suite 393          Orient  ...  48.8878 -118.2105   \n",
       "2      594 White Dale Suite 530      Malad City  ...  42.1808 -112.2620   \n",
       "3   9443 Cynthia Court Apt. 038         Boulder  ...  46.2306 -112.1138   \n",
       "4              408 Bradley Rest        Doe Hill  ...  38.4207  -79.4629   \n",
       "\n",
       "   city_pop                                job         dob  \\\n",
       "0      3495          Psychologist, counselling  1988-03-09   \n",
       "1       149  Special educational needs teacher  1978-06-21   \n",
       "2      4154        Nature conservation officer  1962-01-19   \n",
       "3      1939                    Patent attorney  1967-01-12   \n",
       "4        99     Dance movement psychotherapist  1986-03-28   \n",
       "\n",
       "                          trans_num   unix_time  merch_lat  merch_long  \\\n",
       "0  0b242abb623afc578575680df30655b9  1325376018  36.011293  -82.048315   \n",
       "1  1f76529f8574734946361c461b024d99  1325376044  49.159047 -118.186462   \n",
       "2  a1a22d70485983eac12b5b88dad1cf95  1325376051  43.150704 -112.154481   \n",
       "3  6b849c168bdad6f867558c3793159a81  1325376076  47.034331 -112.561071   \n",
       "4  a41d7549acf90789359a9aa5346dcb46  1325376186  38.674999  -78.632459   \n",
       "\n",
       "   is_fraud  \n",
       "0         0  \n",
       "1         0  \n",
       "2         0  \n",
       "3         0  \n",
       "4         0  \n",
       "\n",
       "[5 rows x 22 columns]"
      ]
     },
     "execution_count": 2,
     "metadata": {},
     "output_type": "execute_result"
    }
   ],
   "source": [
    "file_path = '../fraudTrain.csv'\n",
    "\n",
    "# first column useless\n",
    "df = pd.read_csv(file_path,index_col = 0)\n",
    "\n",
    "print(df.shape)\n",
    "df.head()"
   ]
  },
  {
   "cell_type": "markdown",
   "id": "32c2e50f-08e9-4ccc-ae1c-082714e1d339",
   "metadata": {},
   "source": [
    "#### Data Preprocess (Feature Engineering)"
   ]
  },
  {
   "cell_type": "code",
   "execution_count": 3,
   "id": "7dc60988-2de5-430b-8719-1572d7895255",
   "metadata": {},
   "outputs": [
    {
     "name": "stdout",
     "output_type": "stream",
     "text": [
      "<class 'pandas.core.frame.DataFrame'>\n",
      "Int64Index: 1296675 entries, 0 to 1296674\n",
      "Data columns (total 22 columns):\n",
      " #   Column                 Non-Null Count    Dtype  \n",
      "---  ------                 --------------    -----  \n",
      " 0   trans_date_trans_time  1296675 non-null  object \n",
      " 1   cc_num                 1296675 non-null  int64  \n",
      " 2   merchant               1296675 non-null  object \n",
      " 3   category               1296675 non-null  object \n",
      " 4   amt                    1296675 non-null  float64\n",
      " 5   first                  1296675 non-null  object \n",
      " 6   last                   1296675 non-null  object \n",
      " 7   gender                 1296675 non-null  object \n",
      " 8   street                 1296675 non-null  object \n",
      " 9   city                   1296675 non-null  object \n",
      " 10  state                  1296675 non-null  object \n",
      " 11  zip                    1296675 non-null  int64  \n",
      " 12  lat                    1296675 non-null  float64\n",
      " 13  long                   1296675 non-null  float64\n",
      " 14  city_pop               1296675 non-null  int64  \n",
      " 15  job                    1296675 non-null  object \n",
      " 16  dob                    1296675 non-null  object \n",
      " 17  trans_num              1296675 non-null  object \n",
      " 18  unix_time              1296675 non-null  int64  \n",
      " 19  merch_lat              1296675 non-null  float64\n",
      " 20  merch_long             1296675 non-null  float64\n",
      " 21  is_fraud               1296675 non-null  int64  \n",
      "dtypes: float64(5), int64(5), object(12)\n",
      "memory usage: 227.5+ MB\n"
     ]
    }
   ],
   "source": [
    "df.info() #No null data"
   ]
  },
  {
   "cell_type": "code",
   "execution_count": 4,
   "id": "4de97f92-31ef-4a8a-bd93-66b52c1565e7",
   "metadata": {},
   "outputs": [],
   "source": [
    "## Drop irrelevant column\n",
    "## we use UNIX timestamp instead of time\n",
    "## city and state can represent location, identical number is useless\n",
    "### Actually, it is necessary to keep them, but time is limited to process\n",
    "drop_col = ['trans_date_trans_time','lat','long','merchant','street',\n",
    "            'zip','city','first','trans_num','city','last']\n",
    "df = df.drop(drop_col,axis=1)"
   ]
  },
  {
   "cell_type": "code",
   "execution_count": 5,
   "id": "3f6966ff-83d5-43f9-b401-fd11018cc4a2",
   "metadata": {},
   "outputs": [],
   "source": [
    "### Transfer date of birth to age period\n",
    "def map_dob(dob):\n",
    "    now = 2020\n",
    "    age = now - int(dob[0:4])\n",
    "    return round(age / 10)\n",
    "\n",
    "df['age_period'] = df['dob'].apply(map_dob)\n",
    "df = df.drop(['dob'],axis=1)"
   ]
  },
  {
   "cell_type": "code",
   "execution_count": 6,
   "id": "f2f73a80-6ad2-4ebd-9cca-11d751645bb6",
   "metadata": {},
   "outputs": [
    {
     "name": "stdout",
     "output_type": "stream",
     "text": [
      "Total unique number of credit card number:  983\n"
     ]
    }
   ],
   "source": [
    "##### check unique value of credit card number\n",
    "print(\"Total unique number of credit card number: \",len(df['cc_num'].unique()))\n",
    "### it is too many. Many be we can use the length of it to represent\n",
    "def cc_num_to_length(cc_num):\n",
    "    return len(str(cc_num))\n",
    "\n",
    "df['cc_num_len'] = df['cc_num'].apply(cc_num_to_length)\n",
    "df = df.drop(['cc_num'],axis=1)"
   ]
  },
  {
   "cell_type": "code",
   "execution_count": 7,
   "id": "e744858a-c17c-4807-9041-6c3eaa95df83",
   "metadata": {},
   "outputs": [],
   "source": [
    "### map merch_lat,merch_long to city\n",
    "### TIME_CONSUMING!! NOT RUN\n",
    "# geolocater = Nominatim(user_agent='tutorial')\n",
    "# def map_lat_long(lat,long):\n",
    "#     return rg.search((lat,long))[0]['cc']\n",
    "    \n",
    "# country = []\n",
    "# for i in df.index:\n",
    "#     lat,long = df.iloc[i]['merch_lat'],df.iloc[i]['merch_long']\n",
    "#     country.append(map_lat_long(lat,long))\n",
    "\n",
    "# df['merch_country'] = country\n",
    "df = df.drop(['merch_lat','merch_long'],axis=1)"
   ]
  },
  {
   "cell_type": "code",
   "execution_count": 8,
   "id": "ae578503-65f5-4ec5-aab9-99011e881fa9",
   "metadata": {},
   "outputs": [],
   "source": [
    "#### floating value standardization\n",
    "df['amt'] = preprocessing.scale(np.array(df['amt']).reshape(-1,1))\n",
    "df['city_pop'] = preprocessing.scale(np.array(df['city_pop']).reshape(-1,1))"
   ]
  },
  {
   "cell_type": "code",
   "execution_count": 9,
   "id": "24f90f78-9d34-49dd-aa82-9cf5397b5bab",
   "metadata": {},
   "outputs": [],
   "source": [
    "### UNIX Time can be used to represent year,month,day,time_period\n",
    "def get_week_of_month(year, month, day):\n",
    "    begin = int(datetime.date(year, month, 1).strftime(\"%W\"))\n",
    "    end = int(datetime.date(year, month, day).strftime(\"%W\"))\n",
    "    \n",
    "def extract_time_stamp(ts):\n",
    "    string = datetime.datetime.utcfromtimestamp(ts).strftime('%Y-%m-%d %H:%M:%S')\n",
    "    year,month,day,hour = int(string[0:4]),int(string[5:7]),int(string[8:10]),int(string[11:13])\n",
    "    \n",
    "    week_of_month = get_week_of_month(year,month,day)\n",
    "    \n",
    "    if 0 <= hour <= 6:\n",
    "        time_period = 'EarlyMorning'\n",
    "    elif 6< hour <= 12:\n",
    "        time_period = 'Morning'\n",
    "    elif 12 < hour <= 18:\n",
    "        time_period = 'Afternoon'\n",
    "    else:\n",
    "        time_period = 'Night'\n",
    "    \n",
    "    return year,month,time_period\n",
    "\n",
    "df['year'],df['month'],df['time_period'] = zip(*df['unix_time'].map(extract_time_stamp))\n",
    "df = df.drop(['unix_time'],axis=1)"
   ]
  },
  {
   "cell_type": "code",
   "execution_count": 10,
   "id": "41f7e216-9b9c-4225-b3c4-9111a1953ecc",
   "metadata": {},
   "outputs": [],
   "source": [
    "### Map job to inverse of frequency\n",
    "dic = Counter(df['job'])\n",
    "pickle.dump('../Q4_output/dict.pkl')\n",
    "n = len(df)\n",
    "\n",
    "def map_job(job):\n",
    "    return 1 / (dic[job] / n)\n",
    "\n",
    "df['job'] = df['job'].apply(map_job)"
   ]
  },
  {
   "cell_type": "code",
   "execution_count": 32,
   "id": "884ecead-3d43-4992-a4d0-eb5cb6a73d84",
   "metadata": {},
   "outputs": [],
   "source": [
    "with open('../Q4_output/dict.pkl', \"wb\") as myprofile:\n",
    "    #dump the dictionary for testing purpose\n",
    "    pickle.dump(dic,myprofile)"
   ]
  },
  {
   "cell_type": "code",
   "execution_count": 12,
   "id": "0e25b8e4-0d35-424a-a609-171e016421f7",
   "metadata": {},
   "outputs": [],
   "source": [
    "#Since all str variables are nominal, use one-hot encoding\n",
    "df = pd.get_dummies(df)"
   ]
  },
  {
   "cell_type": "markdown",
   "id": "be4955ce-f6ae-46f7-809e-34352ebcd397",
   "metadata": {},
   "source": [
    "#### Split data"
   ]
  },
  {
   "cell_type": "code",
   "execution_count": 14,
   "id": "bf21c5ea-ca1e-4968-98d8-fe9b9cd8300d",
   "metadata": {},
   "outputs": [
    {
     "name": "stdout",
     "output_type": "stream",
     "text": [
      "(1037340, 78) (259335, 78) (1037340,) (259335,)\n"
     ]
    }
   ],
   "source": [
    "X = df[[col for col in df.columns if col != 'is_fraud']]\n",
    "y = df['is_fraud']\n",
    "\n",
    "X_train, X_test, y_train, y_test = train_test_split(X, y, test_size=0.2, random_state=42)\n",
    "\n",
    "print(X_train.shape, X_test.shape, y_train.shape, y_test.shape)"
   ]
  },
  {
   "cell_type": "markdown",
   "id": "3a731b64-95f9-41ee-982f-ca0a1ca820bd",
   "metadata": {},
   "source": [
    "### Test on validation data"
   ]
  },
  {
   "cell_type": "code",
   "execution_count": 33,
   "id": "382dde8b-7ecf-4534-8f19-fa3928cc1f1d",
   "metadata": {},
   "outputs": [
    {
     "name": "stdout",
     "output_type": "stream",
     "text": [
      "              precision    recall  f1-score   support\n",
      "\n",
      "           0       1.00      1.00      1.00    257815\n",
      "           1       0.96      0.76      0.85      1520\n",
      "\n",
      "    accuracy                           1.00    259335\n",
      "   macro avg       0.98      0.88      0.93    259335\n",
      "weighted avg       1.00      1.00      1.00    259335\n",
      "\n",
      "Test set AUC score: 0.8808376595008456\n"
     ]
    }
   ],
   "source": [
    "clf = RandomForestClassifier(200,class_weight={0:0.05,1:0.95},random_state=1)\n",
    "clf.fit(X_train, y_train)\n",
    "y_pred = clf.predict(X_test)\n",
    "\n",
    "print(classification_report(y_test, y_pred))\n",
    "print(f\"Test set AUC score: {roc_auc_score(y_test, y_pred)}\")"
   ]
  },
  {
   "cell_type": "markdown",
   "id": "d98e2c2a-e91a-4e35-b9c7-9c6e7a7a8412",
   "metadata": {},
   "source": [
    "#### The model look OK. Train on Full dataset and export"
   ]
  },
  {
   "cell_type": "code",
   "execution_count": 34,
   "id": "9ba2e6f4-d1eb-4fbf-b224-6ecf6c6f31a6",
   "metadata": {},
   "outputs": [
    {
     "data": {
      "text/plain": [
       "RandomForestClassifier(class_weight={0: 0.05, 1: 0.95}, n_estimators=200,\n",
       "                       random_state=1)"
      ]
     },
     "execution_count": 34,
     "metadata": {},
     "output_type": "execute_result"
    }
   ],
   "source": [
    "clf = RandomForestClassifier(200,class_weight={0:0.05,1:0.95},random_state=1)\n",
    "clf.fit(X,y)"
   ]
  },
  {
   "cell_type": "code",
   "execution_count": 36,
   "id": "d0de9856-2907-469c-a8ab-eb3b7f392dd4",
   "metadata": {},
   "outputs": [],
   "source": [
    "with open('../Q4_output/model.pkl', 'wb') as f:\n",
    "    #save model\n",
    "    pickle.dump(clf, f)"
   ]
  },
  {
   "cell_type": "code",
   "execution_count": null,
   "id": "eee4c915-d7a9-46ab-b832-5c881e4e11db",
   "metadata": {},
   "outputs": [],
   "source": []
  }
 ],
 "metadata": {
  "kernelspec": {
   "display_name": "Python 3 (ipykernel)",
   "language": "python",
   "name": "python3"
  },
  "language_info": {
   "codemirror_mode": {
    "name": "ipython",
    "version": 3
   },
   "file_extension": ".py",
   "mimetype": "text/x-python",
   "name": "python",
   "nbconvert_exporter": "python",
   "pygments_lexer": "ipython3",
   "version": "3.8.12"
  }
 },
 "nbformat": 4,
 "nbformat_minor": 5
}
