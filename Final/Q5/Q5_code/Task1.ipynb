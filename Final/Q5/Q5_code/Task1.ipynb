{
 "cells": [
  {
   "cell_type": "code",
   "execution_count": 1,
   "id": "a18c9d1f-d94f-4d02-b2d3-890d50c51869",
   "metadata": {},
   "outputs": [],
   "source": [
    "import seaborn as sns\n",
    "import matplotlib.pyplot as plt\n",
    "import pandas as pd\n",
    "import numpy as np\n",
    "import random as rnd"
   ]
  },
  {
   "cell_type": "markdown",
   "id": "6d572e9f-2c6f-48cb-acb3-083a57851b6c",
   "metadata": {},
   "source": [
    "#### Load data"
   ]
  },
  {
   "cell_type": "code",
   "execution_count": 2,
   "id": "6cee6ad8-1a7f-464d-b256-d115f77f88f4",
   "metadata": {},
   "outputs": [],
   "source": [
    "train_path = '../rating_train.csv'\n",
    "user_path = '../users.csv'\n",
    "movie_path = '../movies.csv'\n",
    "test_path = \"../rating_test.csv\""
   ]
  },
  {
   "cell_type": "code",
   "execution_count": 3,
   "id": "6c74adf5-29d0-44f6-ae03-4e68c0dc57ce",
   "metadata": {},
   "outputs": [],
   "source": [
    "train = pd.read_csv(train_path)\n",
    "test = pd.read_csv(test_path)"
   ]
  },
  {
   "cell_type": "markdown",
   "id": "64609d7d-842f-4c81-a611-49f502ed3ad4",
   "metadata": {
    "tags": []
   },
   "source": [
    "### Merge other .csv data into one dataframe"
   ]
  },
  {
   "cell_type": "code",
   "execution_count": 4,
   "id": "a62d5162-2368-4c92-92b8-8e64ddd24b87",
   "metadata": {},
   "outputs": [],
   "source": [
    "user = pd.read_csv(user_path)\n",
    "movie = pd.read_csv(movie_path)"
   ]
  },
  {
   "cell_type": "code",
   "execution_count": 5,
   "id": "1f9c417f-7a76-4f5e-8bde-14fe3998c03b",
   "metadata": {},
   "outputs": [],
   "source": [
    "def merge(df):  \n",
    "    \"\"\"\n",
    "    Merge three dataframe into one \n",
    "    \"\"\"\n",
    "    df_user = (\n",
    "                df.set_index(\"UserID\").join(user.set_index(\"UserID\"),how=\"left\")\n",
    "            ).reset_index()\n",
    "        \n",
    "    df_movie = (\n",
    "                df.set_index(\"MovieID\").join(movie.set_index(\"MovieID\"), how=\"left\")\n",
    "                ).reset_index()\n",
    "    \n",
    "\n",
    "    \n",
    "    df = pd.merge(df_user,movie, how='left', on='MovieID')\n",
    "    \n",
    "    return df"
   ]
  },
  {
   "cell_type": "code",
   "execution_count": 6,
   "id": "36c2a8eb-9fec-42d9-b400-3372f91dc160",
   "metadata": {},
   "outputs": [
    {
     "data": {
      "text/html": [
       "<div>\n",
       "<style scoped>\n",
       "    .dataframe tbody tr th:only-of-type {\n",
       "        vertical-align: middle;\n",
       "    }\n",
       "\n",
       "    .dataframe tbody tr th {\n",
       "        vertical-align: top;\n",
       "    }\n",
       "\n",
       "    .dataframe thead th {\n",
       "        text-align: right;\n",
       "    }\n",
       "</style>\n",
       "<table border=\"1\" class=\"dataframe\">\n",
       "  <thead>\n",
       "    <tr style=\"text-align: right;\">\n",
       "      <th></th>\n",
       "      <th>UserID</th>\n",
       "      <th>MovieID</th>\n",
       "      <th>timestamps</th>\n",
       "      <th>Rating</th>\n",
       "      <th>Gender</th>\n",
       "      <th>Age</th>\n",
       "      <th>OccupationID</th>\n",
       "      <th>Zip-code</th>\n",
       "      <th>Title</th>\n",
       "      <th>Genres</th>\n",
       "    </tr>\n",
       "  </thead>\n",
       "  <tbody>\n",
       "    <tr>\n",
       "      <th>0</th>\n",
       "      <td>1</td>\n",
       "      <td>1836</td>\n",
       "      <td>978300172</td>\n",
       "      <td>5</td>\n",
       "      <td>F</td>\n",
       "      <td>1</td>\n",
       "      <td>10</td>\n",
       "      <td>48067</td>\n",
       "      <td>Last Days of Disco, The (1998)</td>\n",
       "      <td>Drama</td>\n",
       "    </tr>\n",
       "    <tr>\n",
       "      <th>1</th>\n",
       "      <td>1</td>\n",
       "      <td>1097</td>\n",
       "      <td>978301953</td>\n",
       "      <td>4</td>\n",
       "      <td>F</td>\n",
       "      <td>1</td>\n",
       "      <td>10</td>\n",
       "      <td>48067</td>\n",
       "      <td>E.T. the Extra-Terrestrial (1982)</td>\n",
       "      <td>Children's|Drama|Fantasy|Sci-Fi</td>\n",
       "    </tr>\n",
       "    <tr>\n",
       "      <th>2</th>\n",
       "      <td>1</td>\n",
       "      <td>2028</td>\n",
       "      <td>978301619</td>\n",
       "      <td>5</td>\n",
       "      <td>F</td>\n",
       "      <td>1</td>\n",
       "      <td>10</td>\n",
       "      <td>48067</td>\n",
       "      <td>Saving Private Ryan (1998)</td>\n",
       "      <td>Action|Drama|War</td>\n",
       "    </tr>\n",
       "    <tr>\n",
       "      <th>3</th>\n",
       "      <td>1</td>\n",
       "      <td>527</td>\n",
       "      <td>978824195</td>\n",
       "      <td>5</td>\n",
       "      <td>F</td>\n",
       "      <td>1</td>\n",
       "      <td>10</td>\n",
       "      <td>48067</td>\n",
       "      <td>Schindler's List (1993)</td>\n",
       "      <td>Drama|War</td>\n",
       "    </tr>\n",
       "    <tr>\n",
       "      <th>4</th>\n",
       "      <td>1</td>\n",
       "      <td>2918</td>\n",
       "      <td>978302124</td>\n",
       "      <td>4</td>\n",
       "      <td>F</td>\n",
       "      <td>1</td>\n",
       "      <td>10</td>\n",
       "      <td>48067</td>\n",
       "      <td>Ferris Bueller's Day Off (1986)</td>\n",
       "      <td>Comedy</td>\n",
       "    </tr>\n",
       "  </tbody>\n",
       "</table>\n",
       "</div>"
      ],
      "text/plain": [
       "   UserID  MovieID  timestamps  Rating Gender  Age  OccupationID Zip-code  \\\n",
       "0       1     1836   978300172       5      F    1            10    48067   \n",
       "1       1     1097   978301953       4      F    1            10    48067   \n",
       "2       1     2028   978301619       5      F    1            10    48067   \n",
       "3       1      527   978824195       5      F    1            10    48067   \n",
       "4       1     2918   978302124       4      F    1            10    48067   \n",
       "\n",
       "                               Title                           Genres  \n",
       "0     Last Days of Disco, The (1998)                            Drama  \n",
       "1  E.T. the Extra-Terrestrial (1982)  Children's|Drama|Fantasy|Sci-Fi  \n",
       "2         Saving Private Ryan (1998)                 Action|Drama|War  \n",
       "3            Schindler's List (1993)                        Drama|War  \n",
       "4    Ferris Bueller's Day Off (1986)                           Comedy  "
      ]
     },
     "execution_count": 6,
     "metadata": {},
     "output_type": "execute_result"
    }
   ],
   "source": [
    "train = merge(train)\n",
    "test = merge(test)\n",
    "train.head()"
   ]
  },
  {
   "cell_type": "markdown",
   "id": "3d28be90-a914-4ecf-90b3-bed5d61e9efa",
   "metadata": {},
   "source": [
    "#### Feature Engineering"
   ]
  },
  {
   "cell_type": "code",
   "execution_count": 7,
   "id": "f721df73-69c4-4fcd-b674-324dd952813f",
   "metadata": {},
   "outputs": [],
   "source": [
    "def get_movie_year(title):\n",
    "    return title[-5:-1]\n",
    "\n",
    "def map_age(age):\n",
    "    if age == 1:\n",
    "        return 0\n",
    "    elif age == 18:\n",
    "        return 1\n",
    "    elif age == 25:\n",
    "        return 2\n",
    "    elif age == 35:\n",
    "        return 3\n",
    "    elif age == 45:\n",
    "        return 4\n",
    "    elif age == 50:\n",
    "        return 5\n",
    "    else:\n",
    "        return 6\n",
    "train['movie_year'] =train['Title'].apply(get_movie_year)\n",
    "test['movie_year'] =test['Title'].apply(get_movie_year)\n",
    "\n",
    "train['Age'] = train['Age'].map(map_age)\n",
    "test['Age'] = test['Age'].map(map_age)"
   ]
  },
  {
   "cell_type": "markdown",
   "id": "714aa443-003d-42a4-af1e-4a247f0e59fc",
   "metadata": {},
   "source": [
    "#### Drop column"
   ]
  },
  {
   "cell_type": "code",
   "execution_count": 8,
   "id": "aaaa4ad8-a332-4f04-bceb-1aeb3dc586ef",
   "metadata": {},
   "outputs": [],
   "source": [
    "drop = ['Zip-code','timestamps','Title']\n",
    "train = train.drop(drop,axis=1)\n",
    "test = test.drop(drop,axis=1)"
   ]
  },
  {
   "cell_type": "code",
   "execution_count": 9,
   "id": "f43449eb-714a-4c95-a234-93859383c087",
   "metadata": {},
   "outputs": [
    {
     "data": {
      "text/html": [
       "<div>\n",
       "<style scoped>\n",
       "    .dataframe tbody tr th:only-of-type {\n",
       "        vertical-align: middle;\n",
       "    }\n",
       "\n",
       "    .dataframe tbody tr th {\n",
       "        vertical-align: top;\n",
       "    }\n",
       "\n",
       "    .dataframe thead th {\n",
       "        text-align: right;\n",
       "    }\n",
       "</style>\n",
       "<table border=\"1\" class=\"dataframe\">\n",
       "  <thead>\n",
       "    <tr style=\"text-align: right;\">\n",
       "      <th></th>\n",
       "      <th>UserID</th>\n",
       "      <th>MovieID</th>\n",
       "      <th>Rating</th>\n",
       "      <th>Gender</th>\n",
       "      <th>Age</th>\n",
       "      <th>OccupationID</th>\n",
       "      <th>Genres</th>\n",
       "      <th>movie_year</th>\n",
       "    </tr>\n",
       "  </thead>\n",
       "  <tbody>\n",
       "    <tr>\n",
       "      <th>0</th>\n",
       "      <td>1</td>\n",
       "      <td>1836</td>\n",
       "      <td>5</td>\n",
       "      <td>F</td>\n",
       "      <td>0</td>\n",
       "      <td>10</td>\n",
       "      <td>Drama</td>\n",
       "      <td>1998</td>\n",
       "    </tr>\n",
       "    <tr>\n",
       "      <th>1</th>\n",
       "      <td>1</td>\n",
       "      <td>1097</td>\n",
       "      <td>4</td>\n",
       "      <td>F</td>\n",
       "      <td>0</td>\n",
       "      <td>10</td>\n",
       "      <td>Children's|Drama|Fantasy|Sci-Fi</td>\n",
       "      <td>1982</td>\n",
       "    </tr>\n",
       "    <tr>\n",
       "      <th>2</th>\n",
       "      <td>1</td>\n",
       "      <td>2028</td>\n",
       "      <td>5</td>\n",
       "      <td>F</td>\n",
       "      <td>0</td>\n",
       "      <td>10</td>\n",
       "      <td>Action|Drama|War</td>\n",
       "      <td>1998</td>\n",
       "    </tr>\n",
       "    <tr>\n",
       "      <th>3</th>\n",
       "      <td>1</td>\n",
       "      <td>527</td>\n",
       "      <td>5</td>\n",
       "      <td>F</td>\n",
       "      <td>0</td>\n",
       "      <td>10</td>\n",
       "      <td>Drama|War</td>\n",
       "      <td>1993</td>\n",
       "    </tr>\n",
       "    <tr>\n",
       "      <th>4</th>\n",
       "      <td>1</td>\n",
       "      <td>2918</td>\n",
       "      <td>4</td>\n",
       "      <td>F</td>\n",
       "      <td>0</td>\n",
       "      <td>10</td>\n",
       "      <td>Comedy</td>\n",
       "      <td>1986</td>\n",
       "    </tr>\n",
       "  </tbody>\n",
       "</table>\n",
       "</div>"
      ],
      "text/plain": [
       "   UserID  MovieID  Rating Gender  Age  OccupationID  \\\n",
       "0       1     1836       5      F    0            10   \n",
       "1       1     1097       4      F    0            10   \n",
       "2       1     2028       5      F    0            10   \n",
       "3       1      527       5      F    0            10   \n",
       "4       1     2918       4      F    0            10   \n",
       "\n",
       "                            Genres movie_year  \n",
       "0                            Drama       1998  \n",
       "1  Children's|Drama|Fantasy|Sci-Fi       1982  \n",
       "2                 Action|Drama|War       1998  \n",
       "3                        Drama|War       1993  \n",
       "4                           Comedy       1986  "
      ]
     },
     "execution_count": 9,
     "metadata": {},
     "output_type": "execute_result"
    }
   ],
   "source": [
    "train.head()"
   ]
  },
  {
   "cell_type": "markdown",
   "id": "0a06fbef-3283-4153-a7a6-d91197187dd1",
   "metadata": {
    "tags": []
   },
   "source": [
    "#### Model"
   ]
  },
  {
   "cell_type": "code",
   "execution_count": 10,
   "id": "b68775c0-dd78-4168-bd3a-58d0bac601a7",
   "metadata": {
    "tags": []
   },
   "outputs": [
    {
     "name": "stdout",
     "output_type": "stream",
     "text": [
      "Evaluating RMSE, MAE of algorithm SVD on 2 split(s).\n",
      "\n",
      "                  Fold 1  Fold 2  Mean    Std     \n",
      "RMSE (testset)    0.9353  0.9356  0.9355  0.0002  \n",
      "MAE (testset)     0.7361  0.7362  0.7362  0.0000  \n",
      "Fit time          40.08   40.74   40.41   0.33    \n",
      "Test time         1.81    1.51    1.66    0.15    \n"
     ]
    },
    {
     "data": {
      "text/plain": [
       "{'test_rmse': array([0.93529072, 0.93561081]),\n",
       " 'test_mae': array([0.73614557, 0.73623391]),\n",
       " 'fit_time': (40.07932376861572, 40.73696708679199),\n",
       " 'test_time': (1.8095588684082031, 1.5074470043182373)}"
      ]
     },
     "execution_count": 10,
     "metadata": {},
     "output_type": "execute_result"
    }
   ],
   "source": [
    "from surprise import SVD\n",
    "from surprise import Dataset\n",
    "from surprise import Reader\n",
    "from surprise.model_selection import cross_validate\n",
    "\n",
    "# A reader is still needed but only the rating_scale param is requiered.\n",
    "reader = Reader(rating_scale=(1, 5))\n",
    "\n",
    "# The columns must correspond to user id, item id and ratings (in that order).\n",
    "data = Dataset.load_from_df(train[['UserID','MovieID','Rating']], reader)\n",
    "\n",
    "# Use the famous SVD algorithm.\n",
    "algo = SVD(n_factors=200,n_epochs=40)\n",
    "\n",
    "# Run 2-fold cross-validation and print results.\n",
    "cross_validate(algo, data, measures=['RMSE', 'MAE'], cv=2, verbose=True)"
   ]
  },
  {
   "cell_type": "code",
   "execution_count": 11,
   "id": "ff48e18f-5260-415c-995c-cf02d60790a6",
   "metadata": {},
   "outputs": [
    {
     "data": {
      "text/plain": [
       "<surprise.prediction_algorithms.matrix_factorization.SVD at 0x15a32a370>"
      ]
     },
     "execution_count": 11,
     "metadata": {},
     "output_type": "execute_result"
    }
   ],
   "source": [
    "### Make Prediction on test data\n",
    "algo = SVD(n_factors=200,n_epochs=40)\n",
    "algo.fit(data.build_full_trainset())"
   ]
  },
  {
   "cell_type": "code",
   "execution_count": 12,
   "id": "94933ae1-f9d7-4efb-9d0e-ac406e3c584a",
   "metadata": {},
   "outputs": [],
   "source": [
    "pred = []\n",
    "for i in test.index:\n",
    "    uid = test.iloc[i]['UserID']\n",
    "    mid = test.iloc[i]['MovieID']\n",
    "    pred.append(algo.predict(uid,mid).est)"
   ]
  },
  {
   "cell_type": "code",
   "execution_count": 13,
   "id": "e647c224-dcd4-4f49-ba0b-9986afc5e177",
   "metadata": {},
   "outputs": [
    {
     "name": "stderr",
     "output_type": "stream",
     "text": [
      "/var/folders/8j/gcjktp6s2wn3l5pd66pyr67w0000gn/T/ipykernel_97034/933405024.py:2: SettingWithCopyWarning: \n",
      "A value is trying to be set on a copy of a slice from a DataFrame.\n",
      "Try using .loc[row_indexer,col_indexer] = value instead\n",
      "\n",
      "See the caveats in the documentation: https://pandas.pydata.org/pandas-docs/stable/user_guide/indexing.html#returning-a-view-versus-a-copy\n",
      "  result['Rating'] = pred\n"
     ]
    }
   ],
   "source": [
    "result = test[['UserID','MovieID']]\n",
    "result['Rating'] = pred\n",
    "result.to_csv(\"../Q5_output/Q5_output.csv\",index=None)"
   ]
  }
 ],
 "metadata": {
  "kernelspec": {
   "display_name": "Python 3 (ipykernel)",
   "language": "python",
   "name": "python3"
  },
  "language_info": {
   "codemirror_mode": {
    "name": "ipython",
    "version": 3
   },
   "file_extension": ".py",
   "mimetype": "text/x-python",
   "name": "python",
   "nbconvert_exporter": "python",
   "pygments_lexer": "ipython3",
   "version": "3.8.12"
  }
 },
 "nbformat": 4,
 "nbformat_minor": 5
}
