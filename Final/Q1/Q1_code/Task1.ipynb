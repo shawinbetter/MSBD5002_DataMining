{
 "cells": [
  {
   "cell_type": "code",
   "execution_count": 1,
   "id": "b4f6ca63-4382-4040-8f2e-924b1da3db40",
   "metadata": {},
   "outputs": [],
   "source": [
    "from community import community_louvain\n",
    "import networkx as nx\n",
    "from sklearn.metrics.cluster import normalized_mutual_info_score\n",
    "import pandas as pd"
   ]
  },
  {
   "cell_type": "markdown",
   "id": "80f49edf-487c-4452-bdc3-71f1661f59da",
   "metadata": {},
   "source": [
    "#### Load data"
   ]
  },
  {
   "cell_type": "code",
   "execution_count": 2,
   "id": "2ec2c210-685e-4149-ac2e-45dbe10d2758",
   "metadata": {},
   "outputs": [],
   "source": [
    "#file path\n",
    "train = \"../email-Eu-core.txt\"\n",
    "test = \"../email-Eu-core-department-labels.txt\""
   ]
  },
  {
   "cell_type": "markdown",
   "id": "049d1fda-61a3-4a8a-9f9e-0670e30e0ffa",
   "metadata": {},
   "source": [
    "#### Use Louvain to detect communities"
   ]
  },
  {
   "cell_type": "code",
   "execution_count": 3,
   "id": "04ec8d7c-f472-4cb0-8212-83cf59a3c527",
   "metadata": {},
   "outputs": [],
   "source": [
    "# create nx graph\n",
    "G = nx.Graph()\n",
    "\n",
    "#build graph for txt\n",
    "with open(train,'r') as f:\n",
    "    for line in f.readlines():\n",
    "        src,dst = line.split()\n",
    "        G.add_edge(int(src),int(dst))\n",
    "        \n",
    "#compute the partition using Louvain algorithm.\n",
    "#it is a dictonary of {node:community id}\n",
    "partition = community_louvain.best_partition(G)"
   ]
  },
  {
   "cell_type": "markdown",
   "id": "76963272-e7f2-4d26-b863-546d0579fa85",
   "metadata": {},
   "source": [
    "#### Compute NMI"
   ]
  },
  {
   "cell_type": "code",
   "execution_count": 4,
   "id": "c2638fa1-bf40-4765-b058-5d04425a0625",
   "metadata": {},
   "outputs": [],
   "source": [
    "groundtruth = []\n",
    "with open(test,'r') as f:\n",
    "    for line in f.readlines():\n",
    "        groundtruth.append(int(line.split()[1]))"
   ]
  },
  {
   "cell_type": "code",
   "execution_count": 5,
   "id": "9146da0c-977c-4197-8f54-881e7e5cd447",
   "metadata": {},
   "outputs": [
    {
     "name": "stdout",
     "output_type": "stream",
     "text": [
      "The NMI is : 0.5806868888783384\n"
     ]
    }
   ],
   "source": [
    "print(\"The NMI is :\", normalized_mutual_info_score(groundtruth, list(partition.values())))"
   ]
  },
  {
   "cell_type": "code",
   "execution_count": 6,
   "id": "9f1187f7-f7d5-4294-8f94-6e7041baf51a",
   "metadata": {},
   "outputs": [],
   "source": [
    "df = pd.DataFrame({\"node id\":range(len(partition)),\"deparment id\":list(partition.values())})\n",
    "df.to_csv('../Q1_output/Q1_communities.csv',index=None)"
   ]
  },
  {
   "cell_type": "code",
   "execution_count": null,
   "id": "0870286f-bc3f-47e1-9cc0-09a9823f8bd3",
   "metadata": {},
   "outputs": [],
   "source": []
  }
 ],
 "metadata": {
  "kernelspec": {
   "display_name": "Python 3 (ipykernel)",
   "language": "python",
   "name": "python3"
  },
  "language_info": {
   "codemirror_mode": {
    "name": "ipython",
    "version": 3
   },
   "file_extension": ".py",
   "mimetype": "text/x-python",
   "name": "python",
   "nbconvert_exporter": "python",
   "pygments_lexer": "ipython3",
   "version": "3.8.12"
  }
 },
 "nbformat": 4,
 "nbformat_minor": 5
}
