{
 "cells": [
  {
   "cell_type": "code",
   "execution_count": 1,
   "id": "1b6a33e5-a4b1-4c77-b0f5-047a42f2b6b5",
   "metadata": {},
   "outputs": [],
   "source": [
    "import pandas as pd\n",
    "from collections import Counter\n",
    "import matplotlib.pyplot as plt"
   ]
  },
  {
   "cell_type": "markdown",
   "id": "dc8986fe-c3be-4438-a78d-f11a7595cc9a",
   "metadata": {},
   "source": [
    "#### Load data"
   ]
  },
  {
   "cell_type": "code",
   "execution_count": 2,
   "id": "9759db1d-fc0f-472d-8365-166fe22c1374",
   "metadata": {},
   "outputs": [],
   "source": [
    "train_path = \"../trainingandtestdata/training.1600000.processed.noemoticon.csv\""
   ]
  },
  {
   "cell_type": "code",
   "execution_count": 13,
   "id": "c5ab810e-70b9-4e6a-b141-a8212cbf5e12",
   "metadata": {},
   "outputs": [],
   "source": [
    "train = pd.read_csv(train_path,encoding = \"ISO-8859-1\",names=['target','id','date','flag','user','text'])\n",
    "target = train['target']\n",
    "counter = Counter(target)"
   ]
  },
  {
   "cell_type": "markdown",
   "id": "16081e99-b29c-46e5-9789-214b13374ff5",
   "metadata": {},
   "source": [
    "#### the class is balanced."
   ]
  },
  {
   "cell_type": "code",
   "execution_count": 14,
   "id": "6577b772-5212-409e-969f-98194d9ad3cb",
   "metadata": {},
   "outputs": [
    {
     "data": {
      "text/plain": [
       "Text(0, 0.5, 'Nums')"
      ]
     },
     "execution_count": 14,
     "metadata": {},
     "output_type": "execute_result"
    },
    {
     "data": {
      "image/png": "[encoded data removed]",
      "text/plain": [
       "<Figure size 432x288 with 1 Axes>"
      ]
     },
     "metadata": {
      "needs_background": "light"
     },
     "output_type": "display_data"
    }
   ],
   "source": [
    "plt.bar([0,2,4],[counter[0],counter[2],counter[4]])\n",
    "plt.xlabel(\"Target\")\n",
    "plt.xticks([0,2,4])\n",
    "plt.ylabel('Nums')"
   ]
  },
  {
   "cell_type": "code",
   "execution_count": null,
   "id": "fb9bcde2-1f0a-440b-9418-703f97fdf9b8",
   "metadata": {},
   "outputs": [],
   "source": []
  }
 ],
 "metadata": {
  "kernelspec": {
   "display_name": "Python 3 (ipykernel)",
   "language": "python",
   "name": "python3"
  },
  "language_info": {
   "codemirror_mode": {
    "name": "ipython",
    "version": 3
   },
   "file_extension": ".py",
   "mimetype": "text/x-python",
   "name": "python",
   "nbconvert_exporter": "python",
   "pygments_lexer": "ipython3",
   "version": "3.8.12"
  }
 },
 "nbformat": 4,
 "nbformat_minor": 5
}
