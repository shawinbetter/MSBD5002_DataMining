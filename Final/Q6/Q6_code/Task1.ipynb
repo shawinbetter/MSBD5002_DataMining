{
 "cells": [
  {
   "cell_type": "code",
   "execution_count": 4,
   "id": "07905785-0d1b-4f63-a753-4e3aed340e69",
   "metadata": {},
   "outputs": [],
   "source": [
    "import pandas as pd\n",
    "from collections import Counter\n",
    "import matplotlib.pyplot as plt"
   ]
  },
  {
   "cell_type": "code",
   "execution_count": 1,
   "id": "935706a9-293d-47c2-b602-87a1d5f6345c",
   "metadata": {},
   "outputs": [],
   "source": [
    "train_path = \"../train.csv\""
   ]
  },
  {
   "cell_type": "code",
   "execution_count": 5,
   "id": "d382511b-d623-4872-baae-268ab874c4bb",
   "metadata": {},
   "outputs": [],
   "source": [
    "train = pd.read_csv(train_path)\n",
    "target = train['target']\n",
    "counter = Counter(target)"
   ]
  },
  {
   "cell_type": "markdown",
   "id": "b5bfb9ca-0fee-4ad3-84ba-ef3b0b32fea3",
   "metadata": {},
   "source": [
    "#### the class is slighly unbalanced. Target 1 is the imbalanced class."
   ]
  },
  {
   "cell_type": "code",
   "execution_count": 7,
   "id": "5c942b22-2614-45b7-9d84-45eee26b4944",
   "metadata": {},
   "outputs": [
    {
     "data": {
      "text/plain": [
       "Text(0, 0.5, 'Nums')"
      ]
     },
     "execution_count": 7,
     "metadata": {},
     "output_type": "execute_result"
    },
    {
     "data": {
      "image/png": "[encoded data removed]",
      "text/plain": [
       "<Figure size 432x288 with 1 Axes>"
      ]
     },
     "metadata": {
      "needs_background": "light"
     },
     "output_type": "display_data"
    }
   ],
   "source": [
    "plt.bar([0,1],[counter[0],counter[1]])\n",
    "plt.xlabel(\"Target\")\n",
    "plt.xticks([0,1])\n",
    "plt.ylabel('Nums')"
   ]
  },
  {
   "cell_type": "code",
   "execution_count": null,
   "id": "8fee55d4-5739-4a1d-b2c4-63d815927bb4",
   "metadata": {},
   "outputs": [],
   "source": []
  }
 ],
 "metadata": {
  "kernelspec": {
   "display_name": "Python 3 (ipykernel)",
   "language": "python",
   "name": "python3"
  },
  "language_info": {
   "codemirror_mode": {
    "name": "ipython",
    "version": 3
   },
   "file_extension": ".py",
   "mimetype": "text/x-python",
   "name": "python",
   "nbconvert_exporter": "python",
   "pygments_lexer": "ipython3",
   "version": "3.8.12"
  }
 },
 "nbformat": 4,
 "nbformat_minor": 5
}
