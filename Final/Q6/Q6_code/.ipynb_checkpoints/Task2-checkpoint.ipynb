{
 "cells": [
  {
   "cell_type": "code",
   "execution_count": 1,
   "id": "0c74c00b-f741-431e-a7c7-16b65b9cf9dc",
   "metadata": {},
   "outputs": [
    {
     "name": "stderr",
     "output_type": "stream",
     "text": [
      "WARNING:root:Limited tf.compat.v2.summary API due to missing TensorBoard installation.\n",
      "WARNING:root:Limited tf.compat.v2.summary API due to missing TensorBoard installation.\n",
      "WARNING:root:Limited tf.compat.v2.summary API due to missing TensorBoard installation.\n",
      "WARNING:root:Limited tf.summary API due to missing TensorBoard installation.\n"
     ]
    }
   ],
   "source": [
    "import pandas as pd\n",
    "import numpy as np\n",
    "from collections import Counter\n",
    "from sklearn.model_selection import train_test_split\n",
    "import matplotlib.pyplot as plt\n",
    "import nlpaug.augmenter.word as naw\n",
    "import nlpaug.augmenter.sentence as nas\n",
    "from nltk.corpus import stopwords"
   ]
  },
  {
   "cell_type": "markdown",
   "id": "ce5fcfe6-f3c1-49fc-aee7-d2eae83729ce",
   "metadata": {},
   "source": [
    "#### Load data"
   ]
  },
  {
   "cell_type": "code",
   "execution_count": 2,
   "id": "f0e2bc52-f06d-4494-8ad2-995651cb6d3d",
   "metadata": {},
   "outputs": [],
   "source": [
    "train_path = \"../train.csv\"\n",
    "train = pd.read_csv(train_path)"
   ]
  },
  {
   "cell_type": "markdown",
   "id": "0c7370f7-496a-4753-9582-1c2eb3c03503",
   "metadata": {},
   "source": [
    "#### Split data to train & val"
   ]
  },
  {
   "cell_type": "code",
   "execution_count": 3,
   "id": "b6e1e0fa-3c12-4268-afe3-fabb05f9a53a",
   "metadata": {},
   "outputs": [],
   "source": [
    "X = train.iloc[:,0:4]\n",
    "y = train.iloc[:,4]"
   ]
  },
  {
   "cell_type": "code",
   "execution_count": 4,
   "id": "69df7458-069f-4bbe-a439-04b838bc69a7",
   "metadata": {},
   "outputs": [
    {
     "name": "stdout",
     "output_type": "stream",
     "text": [
      "(6090, 4) (1523, 4) (6090,) (1523,)\n"
     ]
    }
   ],
   "source": [
    "X_train, X_test, y_train, y_test = train_test_split(X, y, test_size=0.2, random_state=42)\n",
    "\n",
    "print(X_train.shape, X_test.shape, y_train.shape, y_test.shape)"
   ]
  },
  {
   "cell_type": "markdown",
   "id": "24f0c32b-b100-4358-862c-9b5ed126e0a7",
   "metadata": {
    "tags": []
   },
   "source": [
    "#### Word Augmentation - Using synonym"
   ]
  },
  {
   "cell_type": "code",
   "execution_count": 5,
   "id": "347f9d06-e3e3-4bf8-8064-e2a97499ac8e",
   "metadata": {},
   "outputs": [],
   "source": [
    "counter = Counter(y_train)\n",
    "gap = counter[0] - counter[1] #Number of difference between 1 and 0 = # of augmentated examples"
   ]
  },
  {
   "cell_type": "code",
   "execution_count": 6,
   "id": "6c26f662-7e7c-4222-8dd7-9f7bc3e06b61",
   "metadata": {},
   "outputs": [],
   "source": [
    "aug = naw.SynonymAug(stopwords=stopwords.words('english')) #skip stop words"
   ]
  },
  {
   "cell_type": "code",
   "execution_count": 7,
   "id": "3c7ce18a-d900-4be5-abcc-1a35e4b2283e",
   "metadata": {},
   "outputs": [
    {
     "name": "stdout",
     "output_type": "stream",
     "text": [
      "***********Example of Word Augmentation:***************\n",
      "-  Pandemonium In Aba As Woman Delivers Baby Without Face http://t.co/36GccAPaak http://t.co/nqjZS6wkuN\n",
      "- Pandemonium In Aba As Woman Delivers Baby Without Human face http: / / t. cobalt / 36GccAPaak http: / / t. cobalt / nqjZS6wkuN\n",
      "---------------------\n",
      "Couples having less sex... for fear it'll be a let down: Internet movies and books saying how sex 'ought to be' pÛ_ http://t.co/c1xhIzPrAd\n",
      "Couple having less sex activity. .. for fear it ' ll be a let down: Internet movies and books saying how sexual activity ' ought to be ' p  Û_ http: / / t. co / c1xhIzPrAd\n",
      "---------------------\n",
      "#hot  Funtenna: hijacking computers to send data as sound waves [Black Hat 2015] http://t.co/xV3D9bPjHi #prebreak #best\n",
      "# hot Funtenna: hijacking electronic computer to send information as speech sound waves [Black person Hat 2015] hypertext transfer protocol: / / t. cobalt / xV3D9bPjHi # prebreak # best\n",
      "---------------------\n",
      "Share Large sinkhole swallows entire pond in Lowndes County Georgia A largeÛ_ http://t.co/HvBJ30aj9s #YoNews\n",
      "Portion Large sinkhole swallow entire pond in Lowndes County Georgia A large  Û_ http: / / t. carbon monoxide / HvBJ30aj9s # YoNews\n",
      "---------------------\n",
      "@MI_Country_Hick pfft! I wish I had a bot like that. Instead I'm daily inundated with 140 characters of the same unhinged machismo bullshit.\n",
      "@ MI_Country_Hick pfft! I wish I had a bot similar that. Rather Atomic number 53 ' m daily deluge with 140 character of the same sick machismo shit.\n",
      "---------------------\n"
     ]
    }
   ],
   "source": [
    "print(\"***********Example of Word Augmentation:***************\")\n",
    "index = X_train.index[0:5]\n",
    "for i in index:\n",
    "    print(X_train.iloc[i]['text'])\n",
    "    print(aug.augment(X_train.iloc[i]['text']))  \n",
    "    print('---------------------')"
   ]
  },
  {
   "cell_type": "markdown",
   "id": "ad18f96d-8605-4819-b293-a475b0fc56d8",
   "metadata": {},
   "source": [
    "#### Sentence Augmentation - Random Sentence Augmentation."
   ]
  },
  {
   "cell_type": "code",
   "execution_count": 8,
   "id": "2a61c13a-94c8-43af-bd40-c09b579508c1",
   "metadata": {},
   "outputs": [],
   "source": [
    "aug = nas.RandomSentAug()"
   ]
  },
  {
   "cell_type": "code",
   "execution_count": 9,
   "id": "35757c16-c03e-4462-b4a3-685ee4baf601",
   "metadata": {},
   "outputs": [
    {
     "name": "stdout",
     "output_type": "stream",
     "text": [
      "***********Example of Word Augmentation:***************\n",
      "-  Pandemonium In Aba As Woman Delivers Baby Without Face http://t.co/36GccAPaak http://t.co/nqjZS6wkuN\n",
      "-  Pandemonium In Aba As Woman Delivers Baby Without Face http://t.co/36GccAPaak http://t.co/nqjZS6wkuN\n",
      "---------------------\n",
      "Couples having less sex... for fear it'll be a let down: Internet movies and books saying how sex 'ought to be' pÛ_ http://t.co/c1xhIzPrAd\n",
      "Couples having less sex... for fear it'll be a let down: Internet movies and books saying how sex 'ought to be' pÛ_ http://t.co/c1xhIzPrAd\n",
      "---------------------\n",
      "#hot  Funtenna: hijacking computers to send data as sound waves [Black Hat 2015] http://t.co/xV3D9bPjHi #prebreak #best\n",
      "#hot  Funtenna: hijacking computers to send data as sound waves [Black Hat 2015] http://t.co/xV3D9bPjHi #prebreak #best\n",
      "---------------------\n",
      "Share Large sinkhole swallows entire pond in Lowndes County Georgia A largeÛ_ http://t.co/HvBJ30aj9s #YoNews\n",
      "Share Large sinkhole swallows entire pond in Lowndes County Georgia A largeÛ_ http://t.co/HvBJ30aj9s #YoNews\n",
      "---------------------\n",
      "@MI_Country_Hick pfft! I wish I had a bot like that. Instead I'm daily inundated with 140 characters of the same unhinged machismo bullshit.\n",
      "Instead I'm daily inundated with 140 characters of the same unhinged machismo bullshit. I wish I had a bot like that. @MI_Country_Hick pfft!\n",
      "---------------------\n"
     ]
    }
   ],
   "source": [
    "print(\"***********Example of Word Augmentation:***************\")\n",
    "index = X_train.index[0:5]\n",
    "for i in index:\n",
    "    print(X_train.iloc[i]['text'])\n",
    "    print(aug.augment(X_train.iloc[i]['text']))  \n",
    "    print('---------------------')"
   ]
  },
  {
   "cell_type": "markdown",
   "id": "e52f04c9-e6a8-4cf1-b054-4a120b62d1fd",
   "metadata": {
    "tags": []
   },
   "source": [
    "#### It seems that Sentence Augmentation is better"
   ]
  },
  {
   "cell_type": "code",
   "execution_count": 10,
   "id": "0db06228-05f9-44c4-b0e2-9a79ac59b638",
   "metadata": {},
   "outputs": [],
   "source": [
    "one = y_train[y_train== 1]\n",
    "# Randomly select samples with label == 1 to augment\n",
    "sample_index = np.random.choice(one.index,gap)\n",
    "sample_df = X.iloc[sample_index,:].copy()\n",
    "\n",
    "def map_text(text):\n",
    "    \"\"\"\n",
    "    Define text augmentation function\n",
    "    \"\"\"\n",
    "    return aug.augment(text)\n",
    "\n",
    "sample_df['text'] = sample_df['text'].apply(map_text)\n",
    "\n",
    "#reset index\n",
    "sample_df = sample_df.reset_index().drop('index',axis=1)\n"
   ]
  },
  {
   "cell_type": "code",
   "execution_count": 12,
   "id": "bb3751af-639a-4003-ac21-84654f00b0b3",
   "metadata": {},
   "outputs": [],
   "source": [
    "#export\n",
    "sample_df.to_csv(\"../Q6_output/Q6_generated.csv\",index = None)"
   ]
  },
  {
   "cell_type": "code",
   "execution_count": null,
   "id": "3b19594d-103e-4e4e-bc95-e46b916b2807",
   "metadata": {},
   "outputs": [],
   "source": []
  }
 ],
 "metadata": {
  "kernelspec": {
   "display_name": "Python 3 (ipykernel)",
   "language": "python",
   "name": "python3"
  },
  "language_info": {
   "codemirror_mode": {
    "name": "ipython",
    "version": 3
   },
   "file_extension": ".py",
   "mimetype": "text/x-python",
   "name": "python",
   "nbconvert_exporter": "python",
   "pygments_lexer": "ipython3",
   "version": "3.8.12"
  }
 },
 "nbformat": 4,
 "nbformat_minor": 5
}
