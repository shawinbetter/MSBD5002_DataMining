{
 "cells": [
  {
   "cell_type": "code",
   "execution_count": 1,
   "id": "sustainable-chicken",
   "metadata": {},
   "outputs": [
    {
     "name": "stdout",
     "output_type": "stream",
     "text": [
      "[[[[1, 4, 5], [1, 4, 8], [4, 7, 8]], [[[1, 2, 4], [4, 5, 7]], [[1, 2, 5], [1, 5, 8]], [[1, 2, 3], [1, 5, 9], '[1, 2, 6]->[1, 8, 9]']], [[1, 3, 6], [4, 6, 7], [1, 3, 8]]], [[[2, 4, 8]], [[2, 5, 9]], [[2, 3, 4], [2, 3, 6], [2, 6, 8]]], [[[], [[3, 4, 5], [3, 7, 8]], [[3, 4, 6], [6, 7, 9]]], [[], [], [[3, 5, 6], [3, 5, 9], '[3, 8, 9]->[6, 8, 9]']], [[3, 6, 8]]]]\n"
     ]
    }
   ],
   "source": [
    "def sort_and_remove_duplicate(data):\n",
    "    \"\"\"\n",
    "    Sort the item in ascending order and remove duplicate\n",
    "    \"\"\"\n",
    "    new_data = []\n",
    "    for transaction in data:\n",
    "        tmp = sorted(transaction) #sort\n",
    "        if tmp not in new_data: #remove duplicate\n",
    "            new_data.append(tmp)\n",
    "    return new_data\n",
    "        \n",
    "def generate_hash_tree(items,length = 3, max_leaf_size = 3, dividend = 3, depth = 0):\n",
    "    \"\"\"\n",
    "    This Function Generate hash tree for given itemsets.\n",
    "    \n",
    "    items: List of items.\n",
    "    length: length of k-itemsets. Default to 3 in this question.\n",
    "    max_leaf_size: max number of itemsets stored in a leaf node. Default to 3 in this question.\n",
    "    dividend: divident of hash function. Default to 3 in this question.\n",
    "    depth: the current depth of the tree. Also indicates which item to be hashed.\n",
    "    \n",
    "    Return a list of lists represents the generated hash tree.\n",
    "    \"\"\"\n",
    "    #If depth exceeds 3, it means that although the numberof candidate itemsets\n",
    "    #exceeds max leaf size, the index of itemsets is totally the same. Use a linked\n",
    "    #list to represent. Here I do not explicitly use a real linked list strucutre to\n",
    "    #store it since it is too messy to print it. Instead I use '->' to represent it.\n",
    "    if depth >= length: \n",
    "        if '->' in items[2]:\n",
    "            items[2] += str(items[3]) #append the last item to the linked list\n",
    "        else:\n",
    "            items[2] = str(items[2])+'->'+str(items[3]) #create a root node and append the last item\n",
    "            items = items[0:3]\n",
    "        return items\n",
    "    ans = [[],[],[]] #use a list to represent left child, middle child, and right child of a tree\n",
    "    for item in items:\n",
    "        #use mod 3 to hash item and append it to the corresponded position\n",
    "        ans[item[depth] % dividend - 1].append(item) \n",
    "    for i in range(len(ans)):\n",
    "        if len(ans[i]) > max_leaf_size: #if the number of itemsets > max_leaf_size, split it\n",
    "            ans[i] = generate_hash_tree(ans[i],depth = depth + 1) #use recursion to split this sub-tree, depth+1 indicates which item to be hashed\n",
    "    return ans\n",
    "\n",
    "if __name__ == '__main__':\n",
    "    # test = [[1,4,5],[1,2,4],[4,5,7],[1,2,5],[4,5,8],[1,5,9],[1,3,6],[2,3,4],[5,6,7],[3,4,5],\n",
    "    #        [3,5,6],[3,5,7],[6,8,9],[3,6,7],[3,6,8]] #Test data in the slides\n",
    "    data = [\n",
    "            [1,2,3],[1,4,5],[1,2,4],[1,2,5],[1,5,9],[1,3,6],\n",
    "            [2,3,4],[2,5,9],\n",
    "            [3,4,5],[3,5,6],[3,5,9],[3,8,9],[3,2,6],\n",
    "            [4,5,7],[4,1,8],[4,7,8],[4,6,7],\n",
    "            [6,1,3],[6,3,4],[6,8,9],[6,2,1],[6,4,3],[6,7,9],\n",
    "            [8,2,4],[8,9,1],[8,3,6],[8,3,7],[8,4,7],[8,5,1],[8,3,1],[8,6,2]\n",
    "            ]\n",
    "    processed_data = sort_and_remove_duplicate(data)\n",
    "    print(generate_hash_tree(processed_data))"
   ]
  },
  {
   "cell_type": "code",
   "execution_count": 2,
   "id": "spoken-russian",
   "metadata": {},
   "outputs": [
    {
     "data": {
      "text/plain": [
       "[[[[1, 4, 5], [1, 4, 8], [4, 7, 8]],\n",
       "  [[[1, 2, 4], [4, 5, 7]],\n",
       "   [[1, 2, 5], [1, 5, 8]],\n",
       "   [[1, 2, 3], [1, 5, 9], '[1, 2, 6]->[1, 8, 9]']],\n",
       "  [[1, 3, 6], [4, 6, 7], [1, 3, 8]]],\n",
       " [[[2, 4, 8]], [[2, 5, 9]], [[2, 3, 4], [2, 3, 6], [2, 6, 8]]],\n",
       " [[[], [[3, 4, 5], [3, 7, 8]], [[3, 4, 6], [6, 7, 9]]],\n",
       "  [[], [], [[3, 5, 6], [3, 5, 9], '[3, 8, 9]->[6, 8, 9]']],\n",
       "  [[3, 6, 8]]]]"
      ]
     },
     "execution_count": 2,
     "metadata": {},
     "output_type": "execute_result"
    }
   ],
   "source": [
    "generate_hash_tree(processed_data)"
   ]
  }
 ],
 "metadata": {
  "kernelspec": {
   "display_name": "Python 3",
   "language": "python",
   "name": "python3"
  },
  "language_info": {
   "codemirror_mode": {
    "name": "ipython",
    "version": 3
   },
   "file_extension": ".py",
   "mimetype": "text/x-python",
   "name": "python",
   "nbconvert_exporter": "python",
   "pygments_lexer": "ipython3",
   "version": "3.9.1"
  }
 },
 "nbformat": 4,
 "nbformat_minor": 5
}
